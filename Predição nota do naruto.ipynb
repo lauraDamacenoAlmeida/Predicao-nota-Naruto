{
 "cells": [
  {
   "cell_type": "markdown",
   "id": "693ee91f",
   "metadata": {},
   "source": [
    "# Predição da nota dos episódios do Naruto\n"
   ]
  },
  {
   "cell_type": "code",
   "execution_count": 2,
   "id": "0682f4b2",
   "metadata": {},
   "outputs": [],
   "source": [
    "import pandas as pd\n",
    "import seaborn as sns\n",
    "import numpy as np"
   ]
  },
  {
   "cell_type": "code",
   "execution_count": 3,
   "id": "94e6948b",
   "metadata": {},
   "outputs": [
    {
     "data": {
      "text/html": [
       "<div>\n",
       "<style scoped>\n",
       "    .dataframe tbody tr th:only-of-type {\n",
       "        vertical-align: middle;\n",
       "    }\n",
       "\n",
       "    .dataframe tbody tr th {\n",
       "        vertical-align: top;\n",
       "    }\n",
       "\n",
       "    .dataframe thead th {\n",
       "        text-align: right;\n",
       "    }\n",
       "</style>\n",
       "<table border=\"1\" class=\"dataframe\">\n",
       "  <thead>\n",
       "    <tr style=\"text-align: right;\">\n",
       "      <th></th>\n",
       "      <th>episode_number_overall</th>\n",
       "      <th>season</th>\n",
       "      <th>episode_number_in_season</th>\n",
       "      <th>Title</th>\n",
       "      <th>Directed by</th>\n",
       "      <th>Written by</th>\n",
       "      <th>original_air_date</th>\n",
       "      <th>english_air_date</th>\n",
       "      <th>rating</th>\n",
       "      <th>votes</th>\n",
       "      <th>description</th>\n",
       "    </tr>\n",
       "  </thead>\n",
       "  <tbody>\n",
       "    <tr>\n",
       "      <th>0</th>\n",
       "      <td>1</td>\n",
       "      <td>1</td>\n",
       "      <td>1</td>\n",
       "      <td>\"Homecoming\"Transcription: \"Kikyō\" (Japanese: 帰郷)</td>\n",
       "      <td>Masaaki Kumagai</td>\n",
       "      <td>Satoru Nishizono</td>\n",
       "      <td>2007-02-15</td>\n",
       "      <td>2009-10-28</td>\n",
       "      <td>8.2</td>\n",
       "      <td>759</td>\n",
       "      <td>Naruto returns to Konoha after a two-and-a-hal...</td>\n",
       "    </tr>\n",
       "    <tr>\n",
       "      <th>1</th>\n",
       "      <td>2</td>\n",
       "      <td>1</td>\n",
       "      <td>2</td>\n",
       "      <td>\"The Akatsuki Makes Its Move\"Transcription: \"A...</td>\n",
       "      <td>Atsushi Nigorikawa</td>\n",
       "      <td>Satoru Nishizono</td>\n",
       "      <td>2007-02-15</td>\n",
       "      <td>2009-10-28</td>\n",
       "      <td>8.0</td>\n",
       "      <td>596</td>\n",
       "      <td>Kakashi gives Naruto and Sakura a test to see ...</td>\n",
       "    </tr>\n",
       "    <tr>\n",
       "      <th>2</th>\n",
       "      <td>3</td>\n",
       "      <td>1</td>\n",
       "      <td>3</td>\n",
       "      <td>\"The Results of Training\"Transcription: \"Shugy...</td>\n",
       "      <td>Yuki Sugihara</td>\n",
       "      <td>Satoru Nishizono</td>\n",
       "      <td>2007-02-22</td>\n",
       "      <td>2009-10-28</td>\n",
       "      <td>8.0</td>\n",
       "      <td>527</td>\n",
       "      <td>Sakura and Naruto both demonstrate their newly...</td>\n",
       "    </tr>\n",
       "    <tr>\n",
       "      <th>3</th>\n",
       "      <td>4</td>\n",
       "      <td>1</td>\n",
       "      <td>4</td>\n",
       "      <td>\"The Jinchuriki of the Sand\"Transcription: \"Su...</td>\n",
       "      <td>Kiyomu Fukuda</td>\n",
       "      <td>Satoru Nishizono</td>\n",
       "      <td>2007-03-01</td>\n",
       "      <td>2009-10-28</td>\n",
       "      <td>8.2</td>\n",
       "      <td>535</td>\n",
       "      <td>Gaara is quick to detect Deidara's presence, a...</td>\n",
       "    </tr>\n",
       "    <tr>\n",
       "      <th>4</th>\n",
       "      <td>5</td>\n",
       "      <td>1</td>\n",
       "      <td>5</td>\n",
       "      <td>\"The Kazekage Stands Tall\"Transcription: \"Kaze...</td>\n",
       "      <td>Yuki Kinoshita</td>\n",
       "      <td>Satoru Nishizono</td>\n",
       "      <td>2007-03-15</td>\n",
       "      <td>2009-11-04</td>\n",
       "      <td>8.2</td>\n",
       "      <td>502</td>\n",
       "      <td>Naruto and Sakura defeat Kakashi in the surviv...</td>\n",
       "    </tr>\n",
       "  </tbody>\n",
       "</table>\n",
       "</div>"
      ],
      "text/plain": [
       "   episode_number_overall  season  episode_number_in_season  \\\n",
       "0                       1       1                         1   \n",
       "1                       2       1                         2   \n",
       "2                       3       1                         3   \n",
       "3                       4       1                         4   \n",
       "4                       5       1                         5   \n",
       "\n",
       "                                               Title         Directed by  \\\n",
       "0  \"Homecoming\"Transcription: \"Kikyō\" (Japanese: 帰郷)     Masaaki Kumagai   \n",
       "1  \"The Akatsuki Makes Its Move\"Transcription: \"A...  Atsushi Nigorikawa   \n",
       "2  \"The Results of Training\"Transcription: \"Shugy...       Yuki Sugihara   \n",
       "3  \"The Jinchuriki of the Sand\"Transcription: \"Su...       Kiyomu Fukuda   \n",
       "4  \"The Kazekage Stands Tall\"Transcription: \"Kaze...      Yuki Kinoshita   \n",
       "\n",
       "         Written by original_air_date english_air_date  rating  votes  \\\n",
       "0  Satoru Nishizono        2007-02-15       2009-10-28     8.2    759   \n",
       "1  Satoru Nishizono        2007-02-15       2009-10-28     8.0    596   \n",
       "2  Satoru Nishizono        2007-02-22       2009-10-28     8.0    527   \n",
       "3  Satoru Nishizono        2007-03-01       2009-10-28     8.2    535   \n",
       "4  Satoru Nishizono        2007-03-15       2009-11-04     8.2    502   \n",
       "\n",
       "                                         description  \n",
       "0  Naruto returns to Konoha after a two-and-a-hal...  \n",
       "1  Kakashi gives Naruto and Sakura a test to see ...  \n",
       "2  Sakura and Naruto both demonstrate their newly...  \n",
       "3  Gaara is quick to detect Deidara's presence, a...  \n",
       "4  Naruto and Sakura defeat Kakashi in the surviv...  "
      ]
     },
     "execution_count": 3,
     "metadata": {},
     "output_type": "execute_result"
    }
   ],
   "source": [
    "df = pd.read_csv('naruto_ratings_data_v02.csv')\n",
    "df.head()"
   ]
  },
  {
   "cell_type": "code",
   "execution_count": 4,
   "id": "ecbe6758",
   "metadata": {},
   "outputs": [
    {
     "data": {
      "text/plain": [
       "(500, 11)"
      ]
     },
     "execution_count": 4,
     "metadata": {},
     "output_type": "execute_result"
    }
   ],
   "source": [
    "df.shape"
   ]
  },
  {
   "cell_type": "code",
   "execution_count": 5,
   "id": "ec82e48c",
   "metadata": {},
   "outputs": [
    {
     "data": {
      "text/html": [
       "<div>\n",
       "<style scoped>\n",
       "    .dataframe tbody tr th:only-of-type {\n",
       "        vertical-align: middle;\n",
       "    }\n",
       "\n",
       "    .dataframe tbody tr th {\n",
       "        vertical-align: top;\n",
       "    }\n",
       "\n",
       "    .dataframe thead th {\n",
       "        text-align: right;\n",
       "    }\n",
       "</style>\n",
       "<table border=\"1\" class=\"dataframe\">\n",
       "  <thead>\n",
       "    <tr style=\"text-align: right;\">\n",
       "      <th></th>\n",
       "      <th>episode_number_overall</th>\n",
       "      <th>season</th>\n",
       "      <th>episode_number_in_season</th>\n",
       "      <th>rating</th>\n",
       "      <th>votes</th>\n",
       "    </tr>\n",
       "  </thead>\n",
       "  <tbody>\n",
       "    <tr>\n",
       "      <th>count</th>\n",
       "      <td>500.000000</td>\n",
       "      <td>500.000000</td>\n",
       "      <td>500.000000</td>\n",
       "      <td>500.000000</td>\n",
       "      <td>500.000000</td>\n",
       "    </tr>\n",
       "    <tr>\n",
       "      <th>mean</th>\n",
       "      <td>250.500000</td>\n",
       "      <td>11.520000</td>\n",
       "      <td>15.088000</td>\n",
       "      <td>7.287000</td>\n",
       "      <td>385.320000</td>\n",
       "    </tr>\n",
       "    <tr>\n",
       "      <th>std</th>\n",
       "      <td>144.481833</td>\n",
       "      <td>6.347455</td>\n",
       "      <td>12.248605</td>\n",
       "      <td>0.966561</td>\n",
       "      <td>286.787021</td>\n",
       "    </tr>\n",
       "    <tr>\n",
       "      <th>min</th>\n",
       "      <td>1.000000</td>\n",
       "      <td>1.000000</td>\n",
       "      <td>1.000000</td>\n",
       "      <td>4.200000</td>\n",
       "      <td>168.000000</td>\n",
       "    </tr>\n",
       "    <tr>\n",
       "      <th>25%</th>\n",
       "      <td>125.750000</td>\n",
       "      <td>6.000000</td>\n",
       "      <td>6.000000</td>\n",
       "      <td>6.500000</td>\n",
       "      <td>227.000000</td>\n",
       "    </tr>\n",
       "    <tr>\n",
       "      <th>50%</th>\n",
       "      <td>250.500000</td>\n",
       "      <td>12.000000</td>\n",
       "      <td>13.000000</td>\n",
       "      <td>7.600000</td>\n",
       "      <td>306.500000</td>\n",
       "    </tr>\n",
       "    <tr>\n",
       "      <th>75%</th>\n",
       "      <td>375.250000</td>\n",
       "      <td>18.000000</td>\n",
       "      <td>20.000000</td>\n",
       "      <td>8.025000</td>\n",
       "      <td>413.000000</td>\n",
       "    </tr>\n",
       "    <tr>\n",
       "      <th>max</th>\n",
       "      <td>500.000000</td>\n",
       "      <td>21.000000</td>\n",
       "      <td>66.000000</td>\n",
       "      <td>9.200000</td>\n",
       "      <td>2947.000000</td>\n",
       "    </tr>\n",
       "  </tbody>\n",
       "</table>\n",
       "</div>"
      ],
      "text/plain": [
       "       episode_number_overall      season  episode_number_in_season  \\\n",
       "count              500.000000  500.000000                500.000000   \n",
       "mean               250.500000   11.520000                 15.088000   \n",
       "std                144.481833    6.347455                 12.248605   \n",
       "min                  1.000000    1.000000                  1.000000   \n",
       "25%                125.750000    6.000000                  6.000000   \n",
       "50%                250.500000   12.000000                 13.000000   \n",
       "75%                375.250000   18.000000                 20.000000   \n",
       "max                500.000000   21.000000                 66.000000   \n",
       "\n",
       "           rating        votes  \n",
       "count  500.000000   500.000000  \n",
       "mean     7.287000   385.320000  \n",
       "std      0.966561   286.787021  \n",
       "min      4.200000   168.000000  \n",
       "25%      6.500000   227.000000  \n",
       "50%      7.600000   306.500000  \n",
       "75%      8.025000   413.000000  \n",
       "max      9.200000  2947.000000  "
      ]
     },
     "execution_count": 5,
     "metadata": {},
     "output_type": "execute_result"
    }
   ],
   "source": [
    "df.describe()"
   ]
  },
  {
   "cell_type": "code",
   "execution_count": 13,
   "id": "43266f27",
   "metadata": {},
   "outputs": [
    {
     "name": "stdout",
     "output_type": "stream",
     "text": [
      "<class 'pandas.core.frame.DataFrame'>\n",
      "RangeIndex: 500 entries, 0 to 499\n",
      "Data columns (total 11 columns):\n",
      " #   Column                    Non-Null Count  Dtype  \n",
      "---  ------                    --------------  -----  \n",
      " 0   episode_number_overall    500 non-null    int64  \n",
      " 1   season                    500 non-null    int64  \n",
      " 2   episode_number_in_season  500 non-null    int64  \n",
      " 3   Title                     500 non-null    object \n",
      " 4   Directed by               500 non-null    object \n",
      " 5   Written by                500 non-null    object \n",
      " 6   original_air_date         500 non-null    object \n",
      " 7   english_air_date          370 non-null    object \n",
      " 8   rating                    500 non-null    float64\n",
      " 9   votes                     500 non-null    int64  \n",
      " 10  description               500 non-null    object \n",
      "dtypes: float64(1), int64(4), object(6)\n",
      "memory usage: 43.1+ KB\n"
     ]
    }
   ],
   "source": [
    "df.info()"
   ]
  },
  {
   "cell_type": "code",
   "execution_count": 8,
   "id": "26bf9884",
   "metadata": {},
   "outputs": [
    {
     "name": "stderr",
     "output_type": "stream",
     "text": [
      "C:\\Users\\LauraDamacenoDeAlmei\\Anaconda3\\envs\\project_ufabc_mestrado\\lib\\site-packages\\seaborn\\_decorators.py:36: FutureWarning: Pass the following variable as a keyword arg: x. From version 0.12, the only valid positional argument will be `data`, and passing other arguments without an explicit keyword will result in an error or misinterpretation.\n",
      "  warnings.warn(\n"
     ]
    },
    {
     "data": {
      "text/plain": [
       "<AxesSubplot:xlabel='Written by', ylabel='count'>"
      ]
     },
     "execution_count": 8,
     "metadata": {},
     "output_type": "execute_result"
    },
    {
     "data": {
      "image/png": "[encoded data removed]",
      "text/plain": [
       "<Figure size 432x288 with 1 Axes>"
      ]
     },
     "metadata": {
      "needs_background": "light"
     },
     "output_type": "display_data"
    }
   ],
   "source": [
    "sns.countplot(df['Written by'])"
   ]
  },
  {
   "cell_type": "code",
   "execution_count": 34,
   "id": "b3776375",
   "metadata": {},
   "outputs": [
    {
     "name": "stderr",
     "output_type": "stream",
     "text": [
      "C:\\Users\\LauraDamacenoDeAlmei\\Anaconda3\\envs\\project_ufabc_mestrado\\lib\\site-packages\\seaborn\\distributions.py:2619: FutureWarning: `distplot` is a deprecated function and will be removed in a future version. Please adapt your code to use either `displot` (a figure-level function with similar flexibility) or `histplot` (an axes-level function for histograms).\n",
      "  warnings.warn(msg, FutureWarning)\n"
     ]
    },
    {
     "data": {
      "image/png": "[encoded data removed]",
      "text/plain": [
       "<Figure size 432x288 with 1 Axes>"
      ]
     },
     "metadata": {
      "needs_background": "light"
     },
     "output_type": "display_data"
    }
   ],
   "source": [
    "# plt.rc('figure', figsize = (10,5))\n",
    "ax = sns.distplot(df['votes'])\n"
   ]
  },
  {
   "cell_type": "markdown",
   "id": "f24ca73a",
   "metadata": {},
   "source": [
    "Teve episódios que tiveram muitos votos, e outros que tiveram bem poucos"
   ]
  },
  {
   "cell_type": "code",
   "execution_count": 31,
   "id": "9a4df404",
   "metadata": {},
   "outputs": [
    {
     "name": "stderr",
     "output_type": "stream",
     "text": [
      "C:\\Users\\LauraDamacenoDeAlmei\\Anaconda3\\envs\\project_ufabc_mestrado\\lib\\site-packages\\seaborn\\distributions.py:2619: FutureWarning: `distplot` is a deprecated function and will be removed in a future version. Please adapt your code to use either `displot` (a figure-level function with similar flexibility) or `histplot` (an axes-level function for histograms).\n",
      "  warnings.warn(msg, FutureWarning)\n"
     ]
    },
    {
     "data": {
      "image/png": "[encoded data removed]",
      "text/plain": [
       "<Figure size 432x288 with 1 Axes>"
      ]
     },
     "metadata": {
      "needs_background": "light"
     },
     "output_type": "display_data"
    }
   ],
   "source": [
    "# plt.rc('figure', figsize = (10,5))\n",
    "ax = sns.distplot(df['rating'])\n"
   ]
  },
  {
   "cell_type": "code",
   "execution_count": 32,
   "id": "733e49e3",
   "metadata": {},
   "outputs": [
    {
     "data": {
      "text/plain": [
       "-0.5080205620835153"
      ]
     },
     "execution_count": 32,
     "metadata": {},
     "output_type": "execute_result"
    }
   ],
   "source": [
    "skewness = df['rating'].skew()\n",
    "\n",
    "skewness"
   ]
  },
  {
   "cell_type": "markdown",
   "id": "b19317e2",
   "metadata": {},
   "source": [
    "distribuição tem assimetria negativa, ou seja, a cauda esquerda é mais longa do que a cauda direita"
   ]
  },
  {
   "cell_type": "code",
   "execution_count": 33,
   "id": "73ac43ff",
   "metadata": {},
   "outputs": [
    {
     "data": {
      "text/plain": [
       "-0.6782208029843497"
      ]
     },
     "execution_count": 33,
     "metadata": {},
     "output_type": "execute_result"
    }
   ],
   "source": [
    "df['rating'].kurt()"
   ]
  },
  {
   "cell_type": "code",
   "execution_count": 9,
   "id": "c5e1dc96",
   "metadata": {},
   "outputs": [
    {
     "data": {
      "text/plain": [
       "array(['Satoru Nishizono', 'Yasuyuki Suzuki', 'Junki Takegami',\n",
       "       'Masahiro Hikokubo', 'Yasuyuki Suzuki,Masahiro Hikokubo',\n",
       "       'Toshiyuki Tsuru', 'Yuka Miyata', 'Shin Yoshida,Yasuyuki Suzuki',\n",
       "       'Shin Yoshida', 'Shin Yoshida,Yuka Miyata',\n",
       "       'Junki Takegami,Shin Yoshida', 'Junki Takegami,Yuka Miyata',\n",
       "       'Shin Yoshida,Junki Takegami', 'Yuka Miyata,Junki Takegami',\n",
       "       'Daisuke Watanabe', 'Katsuhiko Chiba',\n",
       "       'Junki Takegami,Daisuke Watanabe', 'Hideto Tanaka',\n",
       "       'Katsuhiko Chiba,Yuka Miyata', 'Yasuyuki Suzuki,Shin Yoshida',\n",
       "       'Shuto Tanaka,Yuka Miyata', 'Shuto Tanaka',\n",
       "       'Junki Takegami,Yasuyuki Suzuki',\n",
       "       'Junki Takegami,Yasuyuki Suzuki,Yuka Miyata', 'Yasuaki Kurozu',\n",
       "       'Osamu Kobayashi', 'Masanao Akahoshi', 'Masaya Honda',\n",
       "       'Kento Shimoyama'], dtype=object)"
      ]
     },
     "execution_count": 9,
     "metadata": {},
     "output_type": "execute_result"
    }
   ],
   "source": [
    "df['Written by'].unique()"
   ]
  },
  {
   "cell_type": "code",
   "execution_count": 10,
   "id": "e33c6390",
   "metadata": {},
   "outputs": [
    {
     "data": {
      "text/plain": [
       "array(['Masaaki Kumagai', 'Atsushi Nigorikawa', 'Yuki Sugihara',\n",
       "       'Kiyomu Fukuda', 'Yuki Kinoshita', 'Mitsutaka Noshitani',\n",
       "       'Hayato Goda', 'Hiroshi Kimura', 'Eitaro Ano', 'Neko Okuma',\n",
       "       'Hayato Date', 'Masaki Takano', 'Shigeharu Takahashi',\n",
       "       'Shinji Satou', 'Masahiko Murata', 'Kunitoshi Okajima',\n",
       "       'Masaki Takuno', 'Toshiyuki Tsuru', 'Takahiro Ono',\n",
       "       'Yuusuke Onoda', 'Toshiaki Kanbara', 'Masayuki Matsumoto',\n",
       "       'Shuu Watanabe', 'Yuki Arie', 'Yasumi Mikamoto', 'Masahiro Takada',\n",
       "       'Akitoshi Yokoyama', 'Fujiaki Asari', 'Minoru Yamaoka',\n",
       "       'Eiko Nishi', 'Naoki Horiuchi', 'Hideyuki Yoshida',\n",
       "       'Yoshihiro Sugai', 'Yasuhiro Minami', 'Atsushi Wakabayashi',\n",
       "       'Takahiro Okao', 'Kanryou Kishikawa', 'Gorou Sessha',\n",
       "       'Maki Odaira', 'Shigeru Mita', 'Chiyuki Tanaka',\n",
       "       'Hiroyuki Tsuchiya', \"Ken'ichi Nishida\", 'Masato Kitagawa',\n",
       "       \"Ken'ichi Nishida,Hayato Date\", 'Hideaki Uehara',\n",
       "       'Mitsutoshi Satou', 'Daisuke Tsukushi',\n",
       "       'Yoshihiro Sugai,Hiroshi Kataoka', 'Yutaka Kagawa',\n",
       "       'Masahito Otani', 'Hiroshi Kataoka,Yoshihiro Sugai',\n",
       "       \"Jun'ichi Fujise\", 'Tomoya Tanaka', 'Hisashi Ishii',\n",
       "       'Hiroshi Yamazaki', 'Hideki Takayama', 'Chikara Sakurai',\n",
       "       'Shigeki Kawai', 'Noriyuki Abe', 'Katsumi Ono', 'Tsuneo Tominaga',\n",
       "       'Jun Nakagawa', 'Sumito Sasaki', 'Yoshihide Ibata',\n",
       "       'Masaaki Kumagai,Chikara Sakurai,Toshiyuki Tsuru', 'Yuu Yamashita',\n",
       "       'Kazunori Mizuno', 'Hidetoshi Takahashi', 'Fumiaki Usui',\n",
       "       'Hiroaki Nishimura', 'Kazuma Satou', 'Hiroyuki Yamashita',\n",
       "       'Naomi Nakayama', 'Chikao Tominaga', 'Shigeru Ishii',\n",
       "       'Kazuya Iwata', 'Sekito Kanno', 'Daisuke Kurose',\n",
       "       'Yoshihiko Iwata', 'Naoki Hishikawa', 'Takuma Suzuki',\n",
       "       'Fukutarou Hattori', 'Masayuki Yamada', 'Yoshihiro Yanagiya',\n",
       "       'Kiyoshi Murayama', 'Taisuke Mamoru', 'Tokuji Kaneko',\n",
       "       'Kentarou Fujita', 'Akira Shimizu',\n",
       "       'Fukutarou Hattori,Kazuya Iwata', 'Yoshinori Odaka',\n",
       "       'Tomokazu Iwasaki', 'Ayataka Tanemura,Kazuya Iwata',\n",
       "       'Yoshinobu Tokumoto', 'Ayataka Tanemura', 'Shinnosuke Imagawa',\n",
       "       'Toshihiro Maeya', 'Yasuhiro Akamatsu', 'Takeyuki Yanase',\n",
       "       'Norihiko Nagahama', 'Shougo Arai', 'Fujii Toshiro',\n",
       "       'Masayuki Kouda', 'Osamu Kobayashi', 'Mitsuto Yamaji',\n",
       "       'Osamu Sekita', 'Chiaki Kon', 'Ayumi Ono', 'Shingo Okano',\n",
       "       'Toshinori Watanabe', 'Taiji Kawanishi', 'Michisoku Matsuda'],\n",
       "      dtype=object)"
      ]
     },
     "execution_count": 10,
     "metadata": {},
     "output_type": "execute_result"
    }
   ],
   "source": [
    "df['Directed by'].unique()"
   ]
  },
  {
   "cell_type": "markdown",
   "id": "5089f105",
   "metadata": {},
   "source": [
    "### Quais são os escritores que tiveram maior média?"
   ]
  },
  {
   "cell_type": "code",
   "execution_count": 17,
   "id": "95f52955",
   "metadata": {},
   "outputs": [
    {
     "data": {
      "text/plain": [
       "Written by\n",
       "Yasuyuki Suzuki                               78\n",
       "Shin Yoshida                                  74\n",
       "Masahiro Hikokubo                             69\n",
       "Katsuhiko Chiba                               60\n",
       "Yuka Miyata                                   53\n",
       "Satoru Nishizono                              53\n",
       "Junki Takegami                                47\n",
       "Toshiyuki Tsuru                               10\n",
       "Junki Takegami,Yasuyuki Suzuki                 8\n",
       "Kento Shimoyama                                7\n",
       "Daisuke Watanabe                               6\n",
       "Masaya Honda                                   5\n",
       "Masanao Akahoshi                               5\n",
       "Osamu Kobayashi                                4\n",
       "Junki Takegami,Shin Yoshida                    3\n",
       "Hideto Tanaka                                  2\n",
       "Shuto Tanaka                                   2\n",
       "Shuto Tanaka,Yuka Miyata                       2\n",
       "Yasuaki Kurozu                                 2\n",
       "Katsuhiko Chiba,Yuka Miyata                    1\n",
       "Junki Takegami,Yuka Miyata                     1\n",
       "Shin Yoshida,Junki Takegami                    1\n",
       "Shin Yoshida,Yasuyuki Suzuki                   1\n",
       "Shin Yoshida,Yuka Miyata                       1\n",
       "Junki Takegami,Yasuyuki Suzuki,Yuka Miyata     1\n",
       "Yasuyuki Suzuki,Masahiro Hikokubo              1\n",
       "Yasuyuki Suzuki,Shin Yoshida                   1\n",
       "Junki Takegami,Daisuke Watanabe                1\n",
       "Yuka Miyata,Junki Takegami                     1\n",
       "Name: episode_number_overall, dtype: int64"
      ]
     },
     "execution_count": 17,
     "metadata": {},
     "output_type": "execute_result"
    }
   ],
   "source": [
    "df.groupby(by='Written by')['episode_number_overall'].count().sort_values(ascending=False)"
   ]
  },
  {
   "cell_type": "code",
   "execution_count": 18,
   "id": "86173377",
   "metadata": {},
   "outputs": [
    {
     "data": {
      "text/plain": [
       "Written by\n",
       "Yasuyuki Suzuki,Shin Yoshida                  9.000000\n",
       "Yasuaki Kurozu                                8.450000\n",
       "Katsuhiko Chiba,Yuka Miyata                   8.300000\n",
       "Shuto Tanaka                                  8.200000\n",
       "Satoru Nishizono                              7.781132\n",
       "Shin Yoshida                                  7.528378\n",
       "Junki Takegami,Shin Yoshida                   7.500000\n",
       "Masahiro Hikokubo                             7.498551\n",
       "Masanao Akahoshi                              7.460000\n",
       "Kento Shimoyama                               7.385714\n",
       "Toshiyuki Tsuru                               7.340000\n",
       "Yuka Miyata                                   7.337736\n",
       "Katsuhiko Chiba                               7.301667\n",
       "Masaya Honda                                  7.260000\n",
       "Yasuyuki Suzuki                               7.019231\n",
       "Osamu Kobayashi                               6.950000\n",
       "Junki Takegami                                6.891489\n",
       "Yasuyuki Suzuki,Masahiro Hikokubo             6.800000\n",
       "Yuka Miyata,Junki Takegami                    6.800000\n",
       "Shin Yoshida,Junki Takegami                   6.800000\n",
       "Hideto Tanaka                                 6.800000\n",
       "Shin Yoshida,Yasuyuki Suzuki                  6.500000\n",
       "Shin Yoshida,Yuka Miyata                      6.400000\n",
       "Junki Takegami,Yuka Miyata                    6.400000\n",
       "Daisuke Watanabe                              6.400000\n",
       "Shuto Tanaka,Yuka Miyata                      6.150000\n",
       "Junki Takegami,Daisuke Watanabe               5.500000\n",
       "Junki Takegami,Yasuyuki Suzuki                5.475000\n",
       "Junki Takegami,Yasuyuki Suzuki,Yuka Miyata    5.300000\n",
       "Name: rating, dtype: float64"
      ]
     },
     "execution_count": 18,
     "metadata": {},
     "output_type": "execute_result"
    }
   ],
   "source": [
    "df.groupby(by='Written by')['rating'].mean().sort_values(ascending=False)"
   ]
  },
  {
   "cell_type": "markdown",
   "id": "b01de139",
   "metadata": {},
   "source": [
    "Temos autores que só escreveram 1 vez e outros que escreveram várias vezes, posso remover as colaborações. Ou desconsiderar essa coluna na predicão.\n"
   ]
  },
  {
   "cell_type": "code",
   "execution_count": 20,
   "id": "ad252b1d",
   "metadata": {},
   "outputs": [
    {
     "data": {
      "text/plain": [
       "(477, 11)"
      ]
     },
     "execution_count": 20,
     "metadata": {},
     "output_type": "execute_result"
    }
   ],
   "source": [
    "indexNames = df[(df['Written by'] == 'Junki Takegami,Yasuyuki Suzuki')| (df['Written by'] == 'Junki Takegami,Yasuyuki Suzuki,Yuka Miyata')|\n",
    "               (df['Written by'] == 'Junki Takegami,Daisuke Watanabe')| (df['Written by'] == 'Shuto Tanaka,Yuka Miyata')| (df['Written by'] == 'Junki Takegami,Yuka Miyata')|\n",
    "               (df['Written by'] == 'Shin Yoshida,Yuka Miyata')|(df['Written by'] == 'Shin Yoshida,Yasuyuki Suzuki')| (df['Written by'] == 'Shin Yoshida,Junki Takegami')|\n",
    "               (df['Written by'] == 'Yuka Miyata,Junki Takegami')|(df['Written by'] == 'Yasuyuki Suzuki,Masahiro Hikokubo')| (df['Written by'] == 'Junki Takegami,Shin Yoshida')\n",
    "               |(df['Written by'] == 'Katsuhiko Chiba,Yuka Miyata') | (df['Written by'] == 'Yasuyuki Suzuki,Shin Yoshida')].index\n",
    "# Delete these row indexes from dataFrame\n",
    "df_sem_colab = df.drop(indexNames)\n",
    "df_sem_colab.shape"
   ]
  },
  {
   "cell_type": "code",
   "execution_count": 22,
   "id": "8c75154f",
   "metadata": {},
   "outputs": [
    {
     "data": {
      "text/plain": [
       "array(['Satoru Nishizono', 'Yasuyuki Suzuki', 'Junki Takegami',\n",
       "       'Masahiro Hikokubo', 'Toshiyuki Tsuru', 'Yuka Miyata',\n",
       "       'Shin Yoshida', 'Daisuke Watanabe', 'Katsuhiko Chiba',\n",
       "       'Hideto Tanaka', 'Shuto Tanaka', 'Yasuaki Kurozu',\n",
       "       'Osamu Kobayashi', 'Masanao Akahoshi', 'Masaya Honda',\n",
       "       'Kento Shimoyama'], dtype=object)"
      ]
     },
     "execution_count": 22,
     "metadata": {},
     "output_type": "execute_result"
    }
   ],
   "source": [
    "df_sem_colab['Written by'].unique()"
   ]
  },
  {
   "cell_type": "markdown",
   "id": "920f90f2",
   "metadata": {},
   "source": [
    "Nao tive uma perda grande então vou seguir com os episódios sem colaboração entre escritores"
   ]
  },
  {
   "cell_type": "markdown",
   "id": "3e443ff7",
   "metadata": {},
   "source": [
    "### Quais são os diretores que tiveram maior média?"
   ]
  },
  {
   "cell_type": "code",
   "execution_count": 23,
   "id": "dd40c8a6",
   "metadata": {},
   "outputs": [
    {
     "data": {
      "text/plain": [
       "Index(['episode_number_overall', 'season', 'episode_number_in_season', 'Title',\n",
       "       'Directed by', 'Written by', 'original_air_date', 'english_air_date',\n",
       "       'rating', 'votes', 'description'],\n",
       "      dtype='object')"
      ]
     },
     "execution_count": 23,
     "metadata": {},
     "output_type": "execute_result"
    }
   ],
   "source": [
    "df_sem_colab.columns"
   ]
  },
  {
   "cell_type": "code",
   "execution_count": 27,
   "id": "a0f4909f",
   "metadata": {},
   "outputs": [
    {
     "data": {
      "text/plain": [
       "Directed by\n",
       "Kiyomu Fukuda         33\n",
       "Masaaki Kumagai       32\n",
       "Atsushi Nigorikawa    27\n",
       "Hiroshi Kimura        26\n",
       "Naoki Horiuchi        24\n",
       "                      ..\n",
       "Hideaki Uehara         1\n",
       "Shingo Okano           1\n",
       "Chiyuki Tanaka         1\n",
       "Shougo Arai            1\n",
       "Taiji Kawanishi        1\n",
       "Name: episode_number_overall, Length: 111, dtype: int64"
      ]
     },
     "execution_count": 27,
     "metadata": {},
     "output_type": "execute_result"
    }
   ],
   "source": [
    "df_sem_colab.groupby(by='Directed by')['episode_number_overall'].count().sort_values(ascending=False)"
   ]
  },
  {
   "cell_type": "markdown",
   "id": "1f21e268",
   "metadata": {},
   "source": [
    "Mesmo problema do de cima, mas não temos colaborações."
   ]
  },
  {
   "cell_type": "code",
   "execution_count": 28,
   "id": "3dd61246",
   "metadata": {},
   "outputs": [
    {
     "data": {
      "text/plain": [
       "Directed by\n",
       "Hiroyuki Yamashita     8.925\n",
       "Chikara Sakurai        8.900\n",
       "Atsushi Wakabayashi    8.800\n",
       "Yasuhiro Minami        8.600\n",
       "Fujii Toshiro          8.500\n",
       "                       ...  \n",
       "Toshihiro Maeya        5.400\n",
       "Yutaka Kagawa          5.400\n",
       "Takeyuki Yanase        5.200\n",
       "Yoshinobu Tokumoto     5.200\n",
       "Fumiaki Usui           5.200\n",
       "Name: rating, Length: 111, dtype: float64"
      ]
     },
     "execution_count": 28,
     "metadata": {},
     "output_type": "execute_result"
    }
   ],
   "source": [
    "df_sem_colab.groupby(by='Directed by')['rating'].mean().sort_values(ascending=False)"
   ]
  },
  {
   "cell_type": "markdown",
   "id": "faca42d5",
   "metadata": {},
   "source": [
    "### Quais episódios tiveram a maior nota?"
   ]
  },
  {
   "cell_type": "code",
   "execution_count": 29,
   "id": "e8b36b66",
   "metadata": {},
   "outputs": [
    {
     "data": {
      "text/plain": [
       "episode_number_in_season\n",
       "64    9.200000\n",
       "63    8.900000\n",
       "65    8.800000\n",
       "61    8.800000\n",
       "50    8.500000\n",
       "        ...   \n",
       "17    6.827778\n",
       "33    6.800000\n",
       "37    6.100000\n",
       "35    5.300000\n",
       "36    5.200000\n",
       "Name: rating, Length: 65, dtype: float64"
      ]
     },
     "execution_count": 29,
     "metadata": {},
     "output_type": "execute_result"
    }
   ],
   "source": [
    "df_sem_colab.groupby(by='episode_number_in_season')['rating'].mean().sort_values(ascending=False)"
   ]
  },
  {
   "cell_type": "markdown",
   "id": "03f96301",
   "metadata": {},
   "source": [
    "O numero do episódio influencia a nota?"
   ]
  },
  {
   "cell_type": "code",
   "execution_count": null,
   "id": "6cd91759",
   "metadata": {},
   "outputs": [],
   "source": [
    "def metrica_regressor(y_test_real,model_predict_reg):\n",
    "    mae = metrics.mean_absolute_error(y_test_real,model_predict_reg)\n",
    "    mse = metrics.mean_squared_error(y_test_real,model_predict_reg)\n",
    "    r2 = metrics.r2_score(y_test_real,model_predict_reg)\n",
    "    \n",
    "    model_predict_reg_alarme = (model_predict_reg > 0.6).astype(int)\n",
    "    y_test_alarme = (y_test_real.squeeze() > 0.6).astype(int)\n",
    "#     model_predict_reg_alarme = (model_predict_reg > 80).astype(int)\n",
    "#     y_test_alarme = (y_test_real.squeeze() > 80).astype(int)\n",
    "    \n",
    "#     recall = metrics.recall_score(y_test_alarme,model_predict_reg_alarme)\n",
    "#     prec = metrics.precision_score(y_test_alarme,model_predict_reg_alarme)\n",
    "#     mcc = metrics.matthews_corrcoef(y_test_alarme,model_predict_reg_alarme)\n",
    "#     f1 = metrics.f1_score(y_test_alarme,model_predict_reg_alarme)\n",
    "#     conf_matrix = metrics.confusion_matrix(y_test_alarme,model_predict_reg_alarme)\n",
    "    \n",
    "    print('MAE:', mae)\n",
    "    print('MSE:', mse)\n",
    "    print('R2:', r2)\n",
    "    print('---------------------------------------------------------')"
   ]
  },
  {
   "cell_type": "code",
   "execution_count": null,
   "id": "0b58cba4",
   "metadata": {},
   "outputs": [],
   "source": []
  },
  {
   "cell_type": "code",
   "execution_count": null,
   "id": "5ea605b3",
   "metadata": {},
   "outputs": [],
   "source": [
    "for model in [XGBRegressor, DecisionTreeRegressor, RandomForestRegressor,LGBMRegressor,ExtraTreesRegressor, AdaBoostRegressor,GradientBoostingRegressor, DummyRegressor,PassiveAggressiveRegressor]:\n",
    "    model_reg = model()\n",
    "    kfold= model_selection.KFold(n_splits=5, random_state=42, shuffle=True)\n",
    "    s= cross_validate(model_reg, X_train, y_train, return_train_score=False,\n",
    "               scoring=['r2',\n",
    "                        'neg_mean_absolute_error','neg_mean_squared_error'],cv=5)\n",
    "\n",
    "    print('Modelo: {} R2: {} STD: {} MAE: {} STD: {} MSE: {} STD: {} '.format(model.__name__, s['test_r2'].mean(), s['test_r2'].std(),s['test_neg_mean_absolute_error'].mean(),s['test_neg_mean_absolute_error'].std()\n",
    "                                                                              ,s['test_neg_mean_squared_error'].mean(), s['test_neg_mean_squared_error'].std()))"
   ]
  }
 ],
 "metadata": {
  "kernelspec": {
   "display_name": "project_mestrado_nlp",
   "language": "python",
   "name": "project_ufabc_mestrado"
  },
  "language_info": {
   "codemirror_mode": {
    "name": "ipython",
    "version": 3
   },
   "file_extension": ".py",
   "mimetype": "text/x-python",
   "name": "python",
   "nbconvert_exporter": "python",
   "pygments_lexer": "ipython3",
   "version": "3.8.13"
  }
 },
 "nbformat": 4,
 "nbformat_minor": 5
}
